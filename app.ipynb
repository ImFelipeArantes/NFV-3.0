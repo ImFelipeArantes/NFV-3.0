{
 "cells": [
  {
   "cell_type": "code",
   "execution_count": 10,
   "metadata": {},
   "outputs": [],
   "source": [
    "import pandas as pd\n",
    "pd.set_option('display.max_columns', None)\n",
    "from datetime import datetime\n",
    "now = datetime.now().strftime('%d_%m_%Y')"
   ]
  },
  {
   "cell_type": "code",
   "execution_count": null,
   "metadata": {},
   "outputs": [],
   "source": [
    "####################################\n",
    "# ORCAMENTO = (distancia linear + 500) * 1.4 (menos para os DC e PV)"
   ]
  },
  {
   "cell_type": "code",
   "execution_count": 13,
   "metadata": {},
   "outputs": [],
   "source": [
    "df_sevs = pd.read_csv('extracao_lote_04_04_2025.csv',sep=';')\n",
    "df_modelo_mapinfo = pd.read_excel('modelo_mapinfo_nf3.xlsx')"
   ]
  },
  {
   "cell_type": "code",
   "execution_count": 14,
   "metadata": {},
   "outputs": [],
   "source": [
    "df_modelo_mapinfo[['SEV','LATITUDE','LONGITUDE']] = df_sevs[['SEV','LATITUDE','LONGITUDE']]"
   ]
  },
  {
   "cell_type": "code",
   "execution_count": 17,
   "metadata": {},
   "outputs": [],
   "source": [
    "# df_vtal = pd.read_excel('arquivo_mapinfo_orc_02_04_2025_VTAL.xlsx')"
   ]
  },
  {
   "cell_type": "code",
   "execution_count": 16,
   "metadata": {},
   "outputs": [],
   "source": [
    "df_modelo_mapinfo.to_excel(f'arquivo_mapinfo_orc_{now}.xlsx',index=False)"
   ]
  },
  {
   "cell_type": "code",
   "execution_count": null,
   "metadata": {},
   "outputs": [],
   "source": [
    "# df_dc_estacao = pd.read_csv(r\"C:\\Users\\F257064\\Documents\\Codes\\NFV 3.0\\MAPINFO_RODOVIAS\\DC_ESTACAO.csv\",encoding='latin-1')\n",
    "# df_dc_ferrovia = pd.read_csv(r\"C:\\Users\\F257064\\Documents\\Codes\\NFV 3.0\\MAPINFO_RODOVIAS\\DC_FERROVIA.csv\",encoding='latin-1')"
   ]
  },
  {
   "cell_type": "code",
   "execution_count": null,
   "metadata": {},
   "outputs": [
    {
     "data": {
      "text/plain": [
       "3"
      ]
     },
     "execution_count": 12,
     "metadata": {},
     "output_type": "execute_result"
    }
   ],
   "source": [
    "# len(df_dc_ferrovia[df_dc_ferrovia.Origem == 189])"
   ]
  }
 ],
 "metadata": {
  "kernelspec": {
   "display_name": "env",
   "language": "python",
   "name": "python3"
  },
  "language_info": {
   "codemirror_mode": {
    "name": "ipython",
    "version": 3
   },
   "file_extension": ".py",
   "mimetype": "text/x-python",
   "name": "python",
   "nbconvert_exporter": "python",
   "pygments_lexer": "ipython3",
   "version": "3.11.3"
  }
 },
 "nbformat": 4,
 "nbformat_minor": 2
}
