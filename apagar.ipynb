{
 "cells": [
  {
   "cell_type": "code",
   "execution_count": 39,
   "id": "6eb44e8a",
   "metadata": {},
   "outputs": [],
   "source": [
    "saldo_inicial = 4500000\n",
    "meses = 180\n",
    "total_gasto = 0"
   ]
  },
  {
   "cell_type": "code",
   "execution_count": 40,
   "id": "bed22e37",
   "metadata": {},
   "outputs": [
    {
     "name": "stdout",
     "output_type": "stream",
     "text": [
      "total final 40560463.674833745\n"
     ]
    }
   ],
   "source": [
    "for i in range(meses):\n",
    "    # print(f'para gastar no mes {i+1} é {((saldo_inicial * 0.01229) * 0.2)}')\n",
    "    # total_gasto += ((saldo_inicial * 0.01229) * 0.2)\n",
    "    saldo_inicial += ((saldo_inicial * 0.01229) )\n",
    "\n",
    "print(f'total final {saldo_inicial}')"
   ]
  },
  {
   "cell_type": "code",
   "execution_count": 36,
   "id": "d1359d4d",
   "metadata": {},
   "outputs": [
    {
     "data": {
      "text/plain": [
       "0.0"
      ]
     },
     "execution_count": 36,
     "metadata": {},
     "output_type": "execute_result"
    }
   ],
   "source": [
    "total_gasto/36"
   ]
  },
  {
   "cell_type": "code",
   "execution_count": 43,
   "id": "1296eadf",
   "metadata": {},
   "outputs": [
    {
     "data": {
      "text/plain": [
       "99697.61971274135"
      ]
     },
     "execution_count": 43,
     "metadata": {},
     "output_type": "execute_result"
    }
   ],
   "source": [
    "((saldo_inicial * 0.01229) * 0.2)"
   ]
  },
  {
   "cell_type": "code",
   "execution_count": 42,
   "id": "392d1bfa",
   "metadata": {},
   "outputs": [
    {
     "data": {
      "text/plain": [
       "40560463.674833745"
      ]
     },
     "execution_count": 42,
     "metadata": {},
     "output_type": "execute_result"
    }
   ],
   "source": [
    "saldo_inicial"
   ]
  }
 ],
 "metadata": {
  "kernelspec": {
   "display_name": "env",
   "language": "python",
   "name": "python3"
  },
  "language_info": {
   "codemirror_mode": {
    "name": "ipython",
    "version": 3
   },
   "file_extension": ".py",
   "mimetype": "text/x-python",
   "name": "python",
   "nbconvert_exporter": "python",
   "pygments_lexer": "ipython3",
   "version": "3.11.3"
  }
 },
 "nbformat": 4,
 "nbformat_minor": 5
}
